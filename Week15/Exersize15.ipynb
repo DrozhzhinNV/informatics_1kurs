{
 "cells": [
  {
   "cell_type": "code",
   "execution_count": 15,
   "id": "1e14afcc-4498-4d83-bafc-bdb10b10ac1d",
   "metadata": {},
   "outputs": [
    {
     "name": "stdout",
     "output_type": "stream",
     "text": [
      "Requirement already satisfied: ipython_unittest in c:\\users\\nikita\\appdata\\local\\programs\\python\\python312\\lib\\site-packages (0.3.2)\n",
      "Requirement already satisfied: ipython in c:\\users\\nikita\\appdata\\local\\programs\\python\\python312\\lib\\site-packages (from ipython_unittest) (8.27.0)\n",
      "Requirement already satisfied: decorator in c:\\users\\nikita\\appdata\\local\\programs\\python\\python312\\lib\\site-packages (from ipython->ipython_unittest) (5.1.1)\n",
      "Requirement already satisfied: jedi>=0.16 in c:\\users\\nikita\\appdata\\local\\programs\\python\\python312\\lib\\site-packages (from ipython->ipython_unittest) (0.19.1)\n",
      "Requirement already satisfied: matplotlib-inline in c:\\users\\nikita\\appdata\\local\\programs\\python\\python312\\lib\\site-packages (from ipython->ipython_unittest) (0.1.7)\n",
      "Requirement already satisfied: prompt-toolkit<3.1.0,>=3.0.41 in c:\\users\\nikita\\appdata\\local\\programs\\python\\python312\\lib\\site-packages (from ipython->ipython_unittest) (3.0.48)\n",
      "Requirement already satisfied: pygments>=2.4.0 in c:\\users\\nikita\\appdata\\local\\programs\\python\\python312\\lib\\site-packages (from ipython->ipython_unittest) (2.18.0)\n",
      "Requirement already satisfied: stack-data in c:\\users\\nikita\\appdata\\local\\programs\\python\\python312\\lib\\site-packages (from ipython->ipython_unittest) (0.6.3)\n",
      "Requirement already satisfied: traitlets>=5.13.0 in c:\\users\\nikita\\appdata\\local\\programs\\python\\python312\\lib\\site-packages (from ipython->ipython_unittest) (5.14.3)\n",
      "Requirement already satisfied: colorama in c:\\users\\nikita\\appdata\\local\\programs\\python\\python312\\lib\\site-packages (from ipython->ipython_unittest) (0.4.6)\n",
      "Requirement already satisfied: parso<0.9.0,>=0.8.3 in c:\\users\\nikita\\appdata\\local\\programs\\python\\python312\\lib\\site-packages (from jedi>=0.16->ipython->ipython_unittest) (0.8.4)\n",
      "Requirement already satisfied: wcwidth in c:\\users\\nikita\\appdata\\local\\programs\\python\\python312\\lib\\site-packages (from prompt-toolkit<3.1.0,>=3.0.41->ipython->ipython_unittest) (0.2.13)\n",
      "Requirement already satisfied: executing>=1.2.0 in c:\\users\\nikita\\appdata\\local\\programs\\python\\python312\\lib\\site-packages (from stack-data->ipython->ipython_unittest) (2.1.0)\n",
      "Requirement already satisfied: asttokens>=2.1.0 in c:\\users\\nikita\\appdata\\local\\programs\\python\\python312\\lib\\site-packages (from stack-data->ipython->ipython_unittest) (2.4.1)\n",
      "Requirement already satisfied: pure-eval in c:\\users\\nikita\\appdata\\local\\programs\\python\\python312\\lib\\site-packages (from stack-data->ipython->ipython_unittest) (0.2.3)\n",
      "Requirement already satisfied: six>=1.12.0 in c:\\users\\nikita\\appdata\\local\\programs\\python\\python312\\lib\\site-packages (from asttokens>=2.1.0->stack-data->ipython->ipython_unittest) (1.16.0)\n",
      "Note: you may need to restart the kernel to use updated packages.\n"
     ]
    },
    {
     "name": "stderr",
     "output_type": "stream",
     "text": [
      "\n",
      "[notice] A new release of pip is available: 24.2 -> 24.3.1\n",
      "[notice] To update, run: python.exe -m pip install --upgrade pip\n"
     ]
    }
   ],
   "source": [
    "%pip install ipython_unittest\n",
    "import unittest\n",
    "%reload_ext ipython_unittest"
   ]
  },
  {
   "cell_type": "markdown",
   "id": "3f841b04-3737-4b1b-b76e-c2a5d3dbd9d6",
   "metadata": {},
   "source": [
    "Упражнение 1.\n",
    "\n",
    "Написать тесты программы для разложения числа на простые множители из упражнения 2 в семинаре 3."
   ]
  },
  {
   "cell_type": "code",
   "execution_count": 36,
   "id": "c7d6f913-c773-4857-b46d-d33c934d6bcc",
   "metadata": {},
   "outputs": [
    {
     "data": {
      "application/unittest.status+json": {
       "color": "yellow",
       "message": "",
       "previous": 0
      },
      "text/plain": []
     },
     "metadata": {},
     "output_type": "display_data"
    },
    {
     "data": {
      "application/unittest.status+json": {
       "color": "lightgreen",
       "message": "...\n----------------------------------------------------------------------\nRan 3 tests in 0.000s\n\nOK\n",
       "previous": 0
      },
      "text/plain": [
       "Success"
      ]
     },
     "metadata": {},
     "output_type": "display_data"
    },
    {
     "name": "stdout",
     "output_type": "stream",
     "text": [
      "...\n",
      "----------------------------------------------------------------------\n",
      "Ran 3 tests in 0.000s\n",
      "\n",
      "OK\n"
     ]
    },
    {
     "data": {
      "text/plain": [
       "<unittest.runner.TextTestResult run=3 errors=0 failures=0>"
      ]
     },
     "execution_count": 36,
     "metadata": {},
     "output_type": "execute_result"
    }
   ],
   "source": [
    "%%unittest_main\n",
    "\n",
    "def prime_factors(n):\n",
    "    a = ''\n",
    "\n",
    "    for i in range(2, n//2 + 1):\n",
    "        if n % i == 0:\n",
    "            a += str(i) + ' '\n",
    "    a += str(n)\n",
    "    return a\n",
    "\n",
    "class TestOrdinary1(unittest.TestCase):\n",
    "    def test_prime_factors(self):\n",
    "        self.assertEqual(prime_factors(10), '2 5 10', 'should be 2 5 10')\n",
    "\n",
    "class TestPrimeNumber(unittest.TestCase):\n",
    "    def test_prime_factors(self):\n",
    "        self.assertEqual(prime_factors(97), '97', 'should be 97')\n",
    "\n",
    "class TestOrdinary2(unittest.TestCase):\n",
    "    def test_prime_factors(self):\n",
    "        self.assertEqual(prime_factors(49), '7 49', 'should be 7 49')\n",
    "\n"
   ]
  },
  {
   "cell_type": "markdown",
   "id": "19736860-0a1c-4ec1-ab81-e1201f714add",
   "metadata": {},
   "source": [
    "Упражнение 2.\n",
    "\n",
    "Написать тесты программы для расчета коэффициентов МНК из упражнения 6 в семинаре 3."
   ]
  },
  {
   "cell_type": "code",
   "execution_count": 53,
   "id": "0147b376-f0ea-4551-8310-1182220b048e",
   "metadata": {},
   "outputs": [
    {
     "data": {
      "application/unittest.status+json": {
       "color": "yellow",
       "message": "",
       "previous": 0
      },
      "text/plain": []
     },
     "metadata": {},
     "output_type": "display_data"
    },
    {
     "data": {
      "application/unittest.status+json": {
       "color": "lightgreen",
       "message": "...\n----------------------------------------------------------------------\nRan 3 tests in 0.001s\n\nOK\n",
       "previous": 0
      },
      "text/plain": [
       "Success"
      ]
     },
     "metadata": {},
     "output_type": "display_data"
    },
    {
     "name": "stdout",
     "output_type": "stream",
     "text": [
      "...\n",
      "----------------------------------------------------------------------\n",
      "Ran 3 tests in 0.001s\n",
      "\n",
      "OK\n"
     ]
    },
    {
     "data": {
      "text/plain": [
       "<unittest.runner.TextTestResult run=3 errors=0 failures=0>"
      ]
     },
     "execution_count": 53,
     "metadata": {},
     "output_type": "execute_result"
    }
   ],
   "source": [
    "%%unittest_main\n",
    "import numpy as np\n",
    "\n",
    "def mnk(mas_x, mas_y):\n",
    "\n",
    "    if len(mas_x) != len(mas_y):\n",
    "        print(\"Число измерений x должно быть равно числу измерений y\")\n",
    "\n",
    "    # См. Лабораторный практикум по общей физике. Том 1. Механика. Стр. 39\n",
    "    b = (np.mean(np.array(mas_x) * np.array(mas_y)) - np.mean(mas_x) * np.mean(mas_y)) / (np.mean(np.array(mas_x) ** 2) - (np.mean(mas_x)) ** 2)\n",
    "    a = np.mean(mas_y) - b * np.mean(mas_x)\n",
    "\n",
    "\n",
    "    return float(a), float(b)\n",
    "\n",
    "class TestOrdinary1(unittest.TestCase):\n",
    "    def test_mnk(self):\n",
    "        self.assertEqual(mnk([1, 2, 3], [1, 2, 3]), (0.0, 1.0), 'should be 2 5 10')\n",
    "\n",
    "class TestOrdinary2(unittest.TestCase):\n",
    "    def test_mnk(self):\n",
    "        self.assertEqual(mnk([1, 3, 5], [1, 2, 3]), (0.5, 0.5), 'should be (0.5, 0.5)')\n",
    "\n",
    "class TestHorizontalStraight(unittest.TestCase):\n",
    "    def test_mnk(self):\n",
    "        self.assertEqual(mnk([1, 2, 3], [0, 0, 0]), (0, 0), 'should be (0, 0)')"
   ]
  }
 ],
 "metadata": {
  "kernelspec": {
   "display_name": "Python 3 (ipykernel)",
   "language": "python",
   "name": "python3"
  },
  "language_info": {
   "codemirror_mode": {
    "name": "ipython",
    "version": 3
   },
   "file_extension": ".py",
   "mimetype": "text/x-python",
   "name": "python",
   "nbconvert_exporter": "python",
   "pygments_lexer": "ipython3",
   "version": "3.12.4"
  }
 },
 "nbformat": 4,
 "nbformat_minor": 5
}
