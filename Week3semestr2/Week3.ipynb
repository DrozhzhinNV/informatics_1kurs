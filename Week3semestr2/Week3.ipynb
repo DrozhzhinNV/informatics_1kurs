{
 "cells": [
  {
   "cell_type": "markdown",
   "id": "0d20307f-7ce3-43d5-88ea-450f0f01770f",
   "metadata": {},
   "source": [
    "5. Дан невзвешенный неориентированный связный граф. Вершины пронумерованы от 0. Трeбуется с помощью обхода в ширину найти расстояния от 0-й до всех остальных вершин. \n",
    "\n",
    "    Формат входных данных \n",
    "\n",
    "    На вход программе в первой строке подаются через пробел два числа: n (2 <= n <= 1000) — число вершин в графе и m (1 <= m <= 20000) — число рёбер. В следующих m строках задаются ребра: по два числа в каждой строке — номера соединённых вершин. \n",
    "\n",
    "    Формат выходных данных \n",
    "\n",
    "    Требуется распечатать n чисел, каждое на новой строке. В первой строке — расстояния от 0-й вершины до 0-й, во второй - от 0-й до 1-й, в третьей — от 0-й до 2-й и т.д. \n",
    "\n",
    "    Примеры \n",
    "\n",
    "    Ввод:\n",
    "\n",
    "    2 1 \\\n",
    "    1 0 \\\n",
    "    Вывод:\n",
    "\n",
    "    0 \\\n",
    "    1"
   ]
  },
  {
   "cell_type": "code",
   "execution_count": 1,
   "id": "d06869d7-e743-4c39-984e-c910da454960",
   "metadata": {},
   "outputs": [
    {
     "name": "stdin",
     "output_type": "stream",
     "text": [
      " 2 1\n",
      " 1 0\n"
     ]
    },
    {
     "name": "stdout",
     "output_type": "stream",
     "text": [
      "0\n",
      "1\n"
     ]
    }
   ],
   "source": [
    "from collections import deque\n",
    "\n",
    "#По факту просто берём код bfs и организуем правильный вывод\n",
    "\n",
    "def bfs(graph, start_node):\n",
    "    num_vertices = len(graph)\n",
    "    distances = [-1] * num_vertices\n",
    "    distances[start_node] = 0\n",
    "    queue = deque([start_node])\n",
    "\n",
    "    while queue:\n",
    "        current_node = queue.popleft()\n",
    "\n",
    "        for neighbor in graph[current_node]:\n",
    "            if distances[neighbor] == -1: \n",
    "                distances[neighbor] = distances[current_node] + 1\n",
    "                queue.append(neighbor)\n",
    "\n",
    "    return distances\n",
    "\n",
    "n, m = map(int, input().split())\n",
    "    \n",
    "graph = {i: [] for i in range(n)}\n",
    "\n",
    "for i in range(m):\n",
    "    u, v = map(int, input().split())\n",
    "    graph[u].append(v)\n",
    "    graph[v].append(u)\n",
    "\n",
    "distances = bfs(graph, 0)\n",
    "\n",
    "for dist in distances:\n",
    "    print(dist)"
   ]
  },
  {
   "cell_type": "markdown",
   "id": "0d3d6db5-c3c8-4b6f-9544-632ca888208c",
   "metadata": {},
   "source": [
    "6. Неориентированный граф задан в формате списка рёбер. При помощи обхода в глубину подсчитать количество компонент связности. \n",
    "\n",
    "    Формат входных данных \n",
    "\n",
    "    В первой строке вводится количество вершин N. Вершины без названий, их номера — 0, 1, 2 и т.д. до (N-1)-й включительно. \n",
    "\n",
    "    Во второй строке вводится количество рёбер M. Затем вводится M строк, содержащих по два числа через пробел — это номера вершин, задающих ребро графа. Рёбра ненаправленные. \n",
    "\n",
    "    Формат выходных данных \n",
    "\n",
    "    Одно натуральное число — количество компонент связности графа. \n",
    "\n",
    "    Примеры \n",
    "\n",
    "    Ввод:\n",
    "\n",
    "\n",
    "    3 \\\n",
    "    3 \\\n",
    "    0 1 \\\n",
    "    1 2 \\\n",
    "    2 0 \\\n",
    "    Вывод:\n",
    "\n",
    "    1\n",
    "\n"
   ]
  },
  {
   "cell_type": "code",
   "execution_count": 2,
   "id": "24af740e-4717-414c-adaf-37288ffbd7ad",
   "metadata": {},
   "outputs": [
    {
     "name": "stdin",
     "output_type": "stream",
     "text": [
      " 3\n",
      " 3\n",
      " 0 1\n",
      " 1 2\n",
      " 2 0\n"
     ]
    },
    {
     "name": "stdout",
     "output_type": "stream",
     "text": [
      "1\n"
     ]
    }
   ],
   "source": [
    "#Берём код dfs и организуем правильный вывод\n",
    "\n",
    "def dfs(graph, start_node, visited):\n",
    "\n",
    "    visited.add(start_node)\n",
    "    for neighbor in graph[start_node]:\n",
    "        if neighbor not in visited:\n",
    "            dfs(graph, neighbor, visited)\n",
    "\n",
    "\n",
    "def count_connected_components(graph, num_vertices):\n",
    "\n",
    "    visited = set()\n",
    "    count = 0\n",
    "    for vertex in range(num_vertices):\n",
    "        if vertex not in visited:\n",
    "            dfs(graph, vertex, visited)\n",
    "            count += 1\n",
    "    return count\n",
    "\n",
    "\n",
    "num_vertices = int(input())\n",
    "num_edges = int(input())\n",
    "\n",
    "graph = {i: [] for i in range(num_vertices)}\n",
    "\n",
    "for i in range(num_edges):\n",
    "    u, v = map(int, input().split())\n",
    "    graph[u].append(v)\n",
    "    graph[v].append(u)\n",
    "\n",
    "result = count_connected_components(graph, num_vertices)\n",
    "print(result)"
   ]
  },
  {
   "cell_type": "code",
   "execution_count": null,
   "id": "0d17e943-395c-4f3f-9785-8667c61f58f8",
   "metadata": {},
   "outputs": [],
   "source": []
  }
 ],
 "metadata": {
  "kernelspec": {
   "display_name": "Python 3 (ipykernel)",
   "language": "python",
   "name": "python3"
  },
  "language_info": {
   "codemirror_mode": {
    "name": "ipython",
    "version": 3
   },
   "file_extension": ".py",
   "mimetype": "text/x-python",
   "name": "python",
   "nbconvert_exporter": "python",
   "pygments_lexer": "ipython3",
   "version": "3.12.4"
  }
 },
 "nbformat": 4,
 "nbformat_minor": 5
}
