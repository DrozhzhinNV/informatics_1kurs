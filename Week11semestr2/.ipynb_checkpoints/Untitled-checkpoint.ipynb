{
 "cells": [
  {
   "cell_type": "markdown",
   "id": "10127b35-7ad8-49ec-b8dc-7ca21e345785",
   "metadata": {},
   "source": [
    "1. С клавиатуры вводится строка, содержащая номера студентов (начинаются с 'student_' и далее трёхзначный номер) и их баллы за контрольную. Выведите номер студента, который получил максимальный балл.\n",
    "\n",
    "Входные данные: Строка с номерами студентов и их баллами (номер студента 1, баллы студента 1, номер студента 2, баллы студента 2 и т. д.). Если два и более студента получили максимальный балл, то выводятся номера этих студентов через '-' (в том порядке, в котором они записаны в строке).\n",
    "\n",
    "Выходные данные: номер (трёхзначный номер студента/студентов, который получил максимальный балл)\n",
    "\n",
    "Пример:\n",
    "\n",
    "Входные данные:\n",
    "\n",
    "student_10221student_00246student_90789\n",
    "\n",
    "Выходные данные:\n",
    "\n",
    "907"
   ]
  },
  {
   "cell_type": "code",
   "execution_count": 4,
   "id": "97f9f769-e94b-4e97-a43c-9eb97f862291",
   "metadata": {},
   "outputs": [
    {
     "name": "stdin",
     "output_type": "stream",
     "text": [
      " student_10221student_00246student_90789\n"
     ]
    },
    {
     "name": "stdout",
     "output_type": "stream",
     "text": [
      "907\n"
     ]
    }
   ],
   "source": [
    "st = input().split('student_')\n",
    "st = [s for s in st if s]\n",
    "\n",
    "mas = []\n",
    "max_v = -9999\n",
    "\n",
    "\n",
    "for i in st:\n",
    "  id_st = i[:3]\n",
    "  val = int(i[3:])\n",
    "  if val > max_v:\n",
    "    max_v = val\n",
    "    mas = [id_st]\n",
    "  elif score == max_v:\n",
    "    mas.append(id_st)\n",
    "\n",
    "print('-'.join(mas))"
   ]
  },
  {
   "cell_type": "markdown",
   "id": "77cc3eee-3d34-4c6b-9954-e59570049db0",
   "metadata": {},
   "source": [
    "2. С клавиатуры вводятся радиус окружности и сторона квадрата (первым вводится радиус окружности). Необходимо рассчитать длину окружности, площадь круга ограниченного этой окружностью и площадь квадрата. На экран выводятся результаты вычисления в следующем виде:\n",
    "'Длина окружности равно <длина окружности>. \n",
    "Площадь круга составляет <отношение площади круга к площади квадрата> % от площади квадрата.' Значения округляются до сотых. Вывод на экран должен быть реализован в одном print().\n",
    "\n",
    "Входные данные:\n",
    "\n",
    "2 3\n",
    "\n",
    "Выходные данные:\n",
    "\n",
    "Длина окружности равно 12.57.\n",
    "Площадь круга составляет 139.63% от площади квадрата."
   ]
  },
  {
   "cell_type": "code",
   "execution_count": 6,
   "id": "3151a0a1-d7d0-4ced-b7b6-1892006cb0d8",
   "metadata": {},
   "outputs": [
    {
     "name": "stdin",
     "output_type": "stream",
     "text": [
      " 2 3\n"
     ]
    },
    {
     "name": "stdout",
     "output_type": "stream",
     "text": [
      "Длина окружности равно 12.56. Площадь круга составляет 139.56% от площади квадрата.\n"
     ]
    }
   ],
   "source": [
    "\n",
    "\n",
    "r, a = map(float, input().split())\n",
    "\n",
    "lenght = 2 * 3.14 * r\n",
    "area1 = 3.14 * r**2\n",
    "area2= a**2\n",
    "\n",
    "print(f\"Длина окружности равно {lenght:.2f}.\", f\"Площадь круга составляет {((area1 / area2) * 100):.2f}% от площади квадрата.\")\n",
    "\n",
    "#Погрешность в ответе из за числа Пи\n"
   ]
  },
  {
   "cell_type": "markdown",
   "id": "ff7715d1-2d46-440f-b046-b016fc61c0f8",
   "metadata": {},
   "source": [
    "3. Напишите функцию, которая принимает на вход две строки и выводит одну строку, в которой для первых 2-х символов строк последовательность символом обратная и строки разделены символом '-'.\n",
    "\n",
    "Пример:\n",
    "\n",
    "Входные данные:\n",
    "\n",
    "abc\n",
    "xyzqw\n",
    "\n",
    "Выходные данные:\n",
    "\n",
    "bac-yxzqw"
   ]
  },
  {
   "cell_type": "code",
   "execution_count": 12,
   "id": "d430b358-2d6f-4f70-b3b0-c35210a1e27e",
   "metadata": {},
   "outputs": [
    {
     "name": "stdin",
     "output_type": "stream",
     "text": [
      " abc xyzqw\n"
     ]
    },
    {
     "name": "stdout",
     "output_type": "stream",
     "text": [
      "bac-yxzqw\n"
     ]
    }
   ],
   "source": [
    "vvod = input().split()\n",
    "str1 = vvod[0]\n",
    "str2 = vvod[1]\n",
    "\n",
    "if len(str1) < 2 or len(str2) < 2:\n",
    "    print(\"Строки должны быть длиной не менее 2 символов.\")\n",
    "\n",
    "print(f\"{str1[1] + str1[0] + str1[2:]}-{str2[1] + str2[0] + str2[2:]}\")\n",
    "\n",
    "\n"
   ]
  },
  {
   "cell_type": "markdown",
   "id": "242b5f53-740e-4ec5-984d-7978d14ad376",
   "metadata": {},
   "source": [
    "4. Напишите функцию, которая переводит строку введённую с клавиатуры к написанию заглавными буквами если как минимум 3 из 4-х первых символов строки заглавные. Если длина строки меньше 4-х, то проверяется условие, что все символы заглавные. Если это условие не выполнено, то выводится исходная строка.\n",
    "\n",
    "Пример:\n",
    "\n",
    "Входные данные:\n",
    "\n",
    "PYThon3\n",
    "\n",
    "Выходные данные:\n",
    "\n",
    "PYTHON3"
   ]
  },
  {
   "cell_type": "code",
   "execution_count": 15,
   "id": "4d634a42-c5d0-422a-bc96-7a6e2b4b2ef4",
   "metadata": {},
   "outputs": [
    {
     "name": "stdin",
     "output_type": "stream",
     "text": [
      " PYThon3\n"
     ]
    },
    {
     "name": "stdout",
     "output_type": "stream",
     "text": [
      "PYTHON3\n"
     ]
    }
   ],
   "source": [
    "def uppercase(a):\n",
    "    if len(a) < 4:\n",
    "        if all(char.isupper() for char in a):\n",
    "            return a.upper()\n",
    "        else:\n",
    "            return a\n",
    "    else:\n",
    "        upp = sum(1 for char in input_string[:4] if char.isupper())\n",
    "        if upp >= 3:\n",
    "            return a.upper()\n",
    "        else:\n",
    "            return a\n",
    "\n",
    "vvod = input()\n",
    "print(uppercase(vvod))\n",
    "\n"
   ]
  },
  {
   "cell_type": "markdown",
   "id": "cb376c6a-0fb7-492b-ac3e-3b774291bdc2",
   "metadata": {},
   "source": [
    "5. Напишите функцию, которая принимает на вход строку и tag для HTML и выводит строку заключённую в нужный тег. К HTML элементам (тегам) отнесите следующие: a, abbr, b, body, caption, cite, code, div, form, h1, h2, h3, h4, h5, h6, header, i и s. Если в качестве тега введен отличный от вариантов выше, то вывести \"Введён неверный тег\".\n",
    "\n",
    "Пример:\n",
    "\n",
    "Входные данные:\n",
    "\n",
    "i\n",
    "\n",
    "Python\n",
    "\n",
    "Выходные данные:\n",
    "\n",
    "<i>Python</i>"
   ]
  },
  {
   "cell_type": "code",
   "execution_count": 17,
   "id": "273a45fe-4ac7-4f9c-8e4f-068bafc70aa8",
   "metadata": {},
   "outputs": [
    {
     "name": "stdin",
     "output_type": "stream",
     "text": [
      " i\n",
      " Python\n"
     ]
    },
    {
     "name": "stdout",
     "output_type": "stream",
     "text": [
      "<i>Python</i>\n"
     ]
    }
   ],
   "source": [
    "def func(tag, text):\n",
    "    tags = [\"a\", \"abbr\", \"b\", \"body\", \"caption\", \"cite\", \"code\", \"div\", \"form\", \"h1\", \"h2\", \"h3\", \"h4\", \"h5\", \"h6\", \"header\", \"i\", \"s\"]\n",
    "\n",
    "    if tag in tags:\n",
    "        return f\"<{tag}>{text}</{tag}>\"\n",
    "    else:\n",
    "        return \"Введён неверный тег\"\n",
    "\n",
    "tag = input()\n",
    "text = input()\n",
    "print(func(tag, text))"
   ]
  },
  {
   "cell_type": "markdown",
   "id": "07ca53ae-118d-4e16-ab8f-f9c732f6c8f2",
   "metadata": {},
   "source": [
    "6. С клавиатуры вводится строка. Если длина строки меньше или равна 2, то выводится ASCII код 1-го символа (т. е. с индексом 0), если больше 2, но меньше 10, то выводится сумма ASCII кодов 1-го (c 0-м индексом), серединного (если символов четной число, то берётся символ слева) и последнего. В случае, если длина строки более 10, то выводится ASCII код последнего символа.\n",
    "\n",
    "Пример:\n",
    "\n",
    "Входные данные:\n",
    "\n",
    "ab\n",
    "\n",
    "Выходные данные:\n",
    "\n",
    "97"
   ]
  },
  {
   "cell_type": "code",
   "execution_count": 18,
   "id": "9dff1a3f-b826-4ee9-8bcd-f8efa3bede40",
   "metadata": {},
   "outputs": [
    {
     "name": "stdin",
     "output_type": "stream",
     "text": [
      " ab\n"
     ]
    },
    {
     "name": "stdout",
     "output_type": "stream",
     "text": [
      "97\n"
     ]
    }
   ],
   "source": [
    "def process_string(a):\n",
    "    if len(a) <= 2:\n",
    "        if len(a) > 0:\n",
    "            return ord(a[0])\n",
    "        else:\n",
    "            return \"Строка пустая\"\n",
    "    elif len(a) < 10:\n",
    "        mid = (len(a) - 1) // 2\n",
    "        return ord(a[0]) + ord(a[mid]) + ord(a[-1])\n",
    "    else:\n",
    "        return ord(a[-1])\n",
    "\n",
    "\n",
    "a = input()\n",
    "print(process_string(a))\n",
    "\n"
   ]
  },
  {
   "cell_type": "code",
   "execution_count": null,
   "id": "03d745f9-853e-4aeb-8885-e84269c03aa8",
   "metadata": {},
   "outputs": [],
   "source": []
  }
 ],
 "metadata": {
  "kernelspec": {
   "display_name": "Python 3 (ipykernel)",
   "language": "python",
   "name": "python3"
  },
  "language_info": {
   "codemirror_mode": {
    "name": "ipython",
    "version": 3
   },
   "file_extension": ".py",
   "mimetype": "text/x-python",
   "name": "python",
   "nbconvert_exporter": "python",
   "pygments_lexer": "ipython3",
   "version": "3.12.4"
  }
 },
 "nbformat": 4,
 "nbformat_minor": 5
}
