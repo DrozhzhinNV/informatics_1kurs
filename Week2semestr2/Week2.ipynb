{
 "cells": [
  {
   "cell_type": "markdown",
   "id": "46d62e50-435c-4dc7-8365-9cb262afb8ac",
   "metadata": {},
   "source": [
    "# Задачи\n",
    "\n",
    "1. Вы работаете в компании социальной сети, которая хочет проанализировать группы пользователей, которые часто взаимодействуют друг с другом. На платформе пользователи могут фолловить друг друга. Компания хочет идентифицировать кластеры пользователей, которые сильно связаны друг с другом.\n",
    "Помогите компании решить эту задачу, реализовав функцию find_social_clusters:\n",
    "    -  Функция принимает количество пользователей (n) и список отношений между ними\n",
    "    -  Возвращает двумерный список групп сильной связанности\n",
    "    -  Группы должны быть отсортированы по размеру в порядке убывания\n",
    "    -  В каждой группе идентификаторы пользователей должны быть отсортированы в порядке возрастания"
   ]
  },
  {
   "cell_type": "markdown",
   "id": "a149213e-adaa-46a8-8d4b-c8196c3e1068",
   "metadata": {},
   "source": [
    "По факту нам нужно лишь настроить правильно отсортировать компоненты сильной связности и аккуратно их вывести. Весь остальной код берём из семинарского ноутбука."
   ]
  },
  {
   "cell_type": "code",
   "execution_count": 10,
   "id": "7610e420-19a2-4b7c-a51d-184991b863b1",
   "metadata": {},
   "outputs": [
    {
     "name": "stdin",
     "output_type": "stream",
     "text": [
      "Количество пользователей: 10\n"
     ]
    },
    {
     "name": "stdout",
     "output_type": "stream",
     "text": [
      "Strongly Connected Components:\n",
      "[[1, 2, 3], [4, 5, 6], [7], [8], [9], [10]]\n"
     ]
    }
   ],
   "source": [
    "from collections import defaultdict\n",
    "\n",
    "class Graph:\n",
    "    def __init__(self):\n",
    "        # Initialize the graph using defaultdict to store adjacency lists\n",
    "        self.graph = defaultdict(list)\n",
    "        self.vertices = set()\n",
    "\n",
    "    def add_edge(self, u, v):\n",
    "        \"\"\"Add a directed edge from vertex u to vertex v\"\"\"\n",
    "        self.graph[u].append(v)\n",
    "        self.vertices.add(u)\n",
    "        self.vertices.add(v)\n",
    "\n",
    "    def transpose(self):\n",
    "        \"\"\"Create a transpose graph by reversing all edges\"\"\"\n",
    "        g_transpose = Graph()\n",
    "        for u in self.graph:\n",
    "            # For each edge u->v, add edge v->u in transposed graph\n",
    "            for v in self.graph[u]:\n",
    "                g_transpose.add_edge(v, u)\n",
    "        return g_transpose\n",
    "\n",
    "    def dfs_first_pass(self, vertex, visited, finishing_times):\n",
    "        \"\"\"First DFS pass to compute finishing times\"\"\"\n",
    "        visited[vertex] = True\n",
    "\n",
    "        # Recursively visit all adjacent vertices\n",
    "        for adj_vertex in self.graph[vertex]:\n",
    "            if not visited[adj_vertex]:\n",
    "                self.dfs_first_pass(adj_vertex, visited, finishing_times)\n",
    "\n",
    "        # Add vertex to finishing_times after exploring all its neighbors\n",
    "        finishing_times.append(vertex)\n",
    "\n",
    "    def dfs_second_pass(self, vertex, visited, scc):\n",
    "        \"\"\"Second DFS pass to find SCCs\"\"\"\n",
    "        visited[vertex] = True\n",
    "        scc.append(vertex)\n",
    "\n",
    "        # Recursively visit all adjacent vertices\n",
    "        for adj_vertex in self.graph[vertex]:\n",
    "            if not visited[adj_vertex]:\n",
    "                self.dfs_second_pass(adj_vertex, visited, scc)\n",
    "\n",
    "    def find_sccs(self):\n",
    "        \"\"\"Main function to find strongly connected components\"\"\"\n",
    "        # Step 1: First DFS pass on original graph\n",
    "        visited = {vertex: False for vertex in self.vertices}\n",
    "        finishing_times = []\n",
    "\n",
    "        # Process all vertices in first DFS pass\n",
    "        for vertex in self.vertices:\n",
    "            if not visited[vertex]:\n",
    "                self.dfs_first_pass(vertex, visited, finishing_times)\n",
    "\n",
    "        # Step 2: Create transpose graph\n",
    "        transposed_graph = self.transpose()\n",
    "\n",
    "        # Step 3: Second DFS pass on transposed graph\n",
    "        visited = {vertex: False for vertex in self.vertices}\n",
    "        sccs = []\n",
    "\n",
    "        # Process vertices in order of decreasing finishing time\n",
    "        for vertex in reversed(finishing_times):\n",
    "            if not visited[vertex]:\n",
    "                current_scc = []\n",
    "                transposed_graph.dfs_second_pass(vertex, visited, current_scc)\n",
    "                sccs.append(current_scc)\n",
    "\n",
    "        return sccs\n",
    "\n",
    "\n",
    "def find_social_clusters(n, edges):\n",
    "    g = Graph()\n",
    "\n",
    "    for u, v in edges:\n",
    "        g.add_edge(u, v)\n",
    "\n",
    "    sccs = g.find_sccs()\n",
    "    mas = []\n",
    "    print(\"Strongly Connected Components:\")\n",
    "    for i, scc in enumerate(sccs, 1):\n",
    "        mas.append(scc)\n",
    "\n",
    "    mas.sort(key = lambda x: len(x), reverse = True)\n",
    "    for i in mas:\n",
    "        i.sort()\n",
    "\n",
    "    #Этот кусок добавляет в итоговый массив людей, у которых нет сильных связей\n",
    "    mas1 = [] #Вспомогательный массив\n",
    "    for i in mas:\n",
    "        for j in i:\n",
    "            mas1.append(j)\n",
    "    for i in range(1, n+1):\n",
    "        if i not in mas1:\n",
    "            mas.append([i])\n",
    "\n",
    "    print(mas)\n",
    "\n",
    "\n",
    "if __name__ == \"__main__\":\n",
    "    n = int(input('Количество пользователей:'))  # Количество пользователей\n",
    "\n",
    "    # Add edges to create a graph with multiple SCCs\n",
    "    edges = [(1, 2), (2, 3), (3, 1),  # First SCC: 1-2-3\n",
    "             (4, 5), (5, 6), (6, 4),  # Second SCC: 4-5-6\n",
    "             (3, 4), (5, 7)]  # Additional edges\n",
    "\n",
    "    find_social_clusters(n, edges)"
   ]
  },
  {
   "cell_type": "markdown",
   "id": "b5c51739-7fcf-435c-ba4f-678f5a7e63b1",
   "metadata": {},
   "source": [
    "2. На шахматной доске n × n в некоторой клетке расположен конь. Для каждой клетки найдите минимальное число шагов коня для её достижения. Асимптотика: O(n2)."
   ]
  },
  {
   "cell_type": "code",
   "execution_count": 9,
   "id": "05b9046c-dcfa-416c-90b0-1d7724cd166c",
   "metadata": {},
   "outputs": [
    {
     "name": "stdin",
     "output_type": "stream",
     "text": [
      "Размер доски(одно число):  10\n",
      "Начальная координата коня по горизонтали:  3\n",
      "Начальная координата коня по вертикали:  3\n"
     ]
    },
    {
     "name": "stdout",
     "output_type": "stream",
     "text": [
      "[2, 3, 2, 3, 2, 3, 2, 3, 4, 3]\n",
      "[3, 4, 1, 2, 1, 4, 3, 2, 3, 4]\n",
      "[2, 1, 2, 3, 2, 1, 2, 3, 4, 3]\n",
      "[3, 2, 3, 0, 3, 2, 3, 2, 3, 4]\n",
      "[2, 1, 2, 3, 2, 1, 2, 3, 4, 3]\n",
      "[3, 4, 1, 2, 1, 4, 3, 2, 3, 4]\n",
      "[2, 3, 2, 3, 2, 3, 2, 3, 4, 3]\n",
      "[3, 2, 3, 2, 3, 2, 3, 4, 3, 4]\n",
      "[4, 3, 4, 3, 4, 3, 4, 3, 4, 5]\n",
      "[3, 4, 3, 4, 3, 4, 3, 4, 5, 4]\n"
     ]
    }
   ],
   "source": [
    "from collections import deque\n",
    "\n",
    "def horse(n, x_0, y_0):\n",
    "\n",
    "    distances = [[-1] * n for _ in range(n)]\n",
    "    distances[x_0][y_0] = 0\n",
    "    queue = deque([(x_0, y_0)])\n",
    "\n",
    "    #На сколько может пойти конь за один ход\n",
    "    moves = [\n",
    "        (-2, -1), (-2, 1), (-1, -2), (-1, 2),\n",
    "        (1, -2), (1, 2), (2, -1), (2, 1)\n",
    "    ]\n",
    "\n",
    "    while queue:\n",
    "        x, y = queue.popleft()\n",
    "\n",
    "        for dr, dc in moves:\n",
    "            new_x = x + dr\n",
    "            new_y = y + dc\n",
    "\n",
    "            if 0 <= new_x < n and 0 <= new_y < n and distances[new_x][new_y] == -1:\n",
    "                distances[new_x][new_y] = distances[x][y] + 1\n",
    "                queue.append((new_x, new_y))\n",
    "\n",
    "    return distances\n",
    "\n",
    "n = int(input(\"Размер доски(одно число): \"))\n",
    "x_0 = int(input(\"Начальная координата коня по горизонтали: \"))\n",
    "y_0 = int(input(\"Начальная координата коня по вертикали: \"))\n",
    "result = horse(n, x_0, y_0)\n",
    "\n",
    "for row in result:\n",
    "    print(row)\n"
   ]
  },
  {
   "cell_type": "code",
   "execution_count": null,
   "id": "94f0a534-e0be-46c8-a2ab-22574f98e822",
   "metadata": {},
   "outputs": [],
   "source": []
  }
 ],
 "metadata": {
  "kernelspec": {
   "display_name": "Python 3 (ipykernel)",
   "language": "python",
   "name": "python3"
  },
  "language_info": {
   "codemirror_mode": {
    "name": "ipython",
    "version": 3
   },
   "file_extension": ".py",
   "mimetype": "text/x-python",
   "name": "python",
   "nbconvert_exporter": "python",
   "pygments_lexer": "ipython3",
   "version": "3.12.4"
  }
 },
 "nbformat": 4,
 "nbformat_minor": 5
}
